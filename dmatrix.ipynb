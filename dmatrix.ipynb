{
 "cells": [
  {
   "cell_type": "code",
   "execution_count": 2,
   "metadata": {},
   "outputs": [],
   "source": [
    "import numpy as np\n",
    "n=4\n",
    "m=5\n",
    "z=5"
   ]
  },
  {
   "cell_type": "code",
   "execution_count": 3,
   "metadata": {},
   "outputs": [],
   "source": [
    "def Numeric(a,d,cnum):\n",
    "    max=np.amax(a,axis=0)[cnum]\n",
    "    min=np.amin(a,axis=0)[cnum]\n",
    "    denominator=max-min\n",
    "    for i in range(n):\n",
    "        for j in range(n):\n",
    "            if i==j:\n",
    "                d[cnum][i][j]=0\n",
    "            d[cnum][i][j]=abs(a[i][cnum]-a[j][cnum])/denominator\n",
    "    return d\n",
    "    "
   ]
  },
  {
   "cell_type": "code",
   "execution_count": 4,
   "metadata": {},
   "outputs": [],
   "source": [
    "def Ordinal(a,d,cnum):\n",
    "    temp=[]\n",
    "    for i in range(n):\n",
    "        temp.append((a[i][cnum]-1)/(z-1))\n",
    "    #print(a)\n",
    "    for i in range(n):\n",
    "        for j in range(n):\n",
    "            if i==j:\n",
    "                d[cnum][i][j]=0\n",
    "            \n",
    "            else:\n",
    "                d[cnum][i][j]=np.linalg.norm(temp[i]-temp[j])\n",
    "    return d\n",
    "    "
   ]
  },
  {
   "cell_type": "code",
   "execution_count": 5,
   "metadata": {},
   "outputs": [],
   "source": [
    "def NominalORBinary(a,d,cnum):\n",
    " \n",
    "    for i in range(n):\n",
    "        for j in range(n):\n",
    "            if i==j:\n",
    "                d[cnum][i][j]=0\n",
    "            if a[i][cnum]==a[j][cnum]:\n",
    "                d[cnum][i][j]=0\n",
    "            else:\n",
    "                d[cnum][i][j]=1\n",
    "    return d"
   ]
  },
  {
   "cell_type": "code",
   "execution_count": 6,
   "metadata": {},
   "outputs": [],
   "source": [
    "def DissimilarityMatrix(d,D):\n",
    "    temp=0\n",
    "    for i in range(n):\n",
    "        \n",
    "        for j in range(n):\n",
    "            if i==j:\n",
    "                D[i][j]=0\n",
    "            for k in range(m):\n",
    "                temp+=(d[k][i][j])\n",
    "            D[i][j]=temp/m\n",
    "            temp=0\n",
    "    return D"
   ]
  },
  {
   "cell_type": "code",
   "execution_count": 7,
   "metadata": {},
   "outputs": [],
   "source": [
    "a=np.zeros((n,m))\n",
    "d=np.zeros((m,n,n))\n",
    "D=np.zeros((n,n))"
   ]
  },
  {
   "cell_type": "code",
   "execution_count": 8,
   "metadata": {},
   "outputs": [],
   "source": [
    "dict={\"Y\":1,\"N\":0}"
   ]
  },
  {
   "cell_type": "code",
   "execution_count": 9,
   "metadata": {},
   "outputs": [
    {
     "name": "stdout",
     "output_type": "stream",
     "text": [
      "Enter the details of Family A\n",
      "30\n",
      "1\n",
      "1\n",
      "5\n",
      "Y\n",
      "Enter the details of Family B\n",
      "60\n",
      "1\n",
      "5\n",
      "2\n",
      "N\n",
      "Enter the details of Family C\n",
      "30\n",
      "3\n",
      "3\n",
      "4\n",
      "Y\n",
      "Enter the details of Family D\n",
      "45\n",
      "1\n",
      "1\n",
      "2\n",
      "Y\n",
      "[[30.  1.  1.  5.  1.]\n",
      " [60.  1.  5.  2.  0.]\n",
      " [30.  3.  3.  4.  1.]\n",
      " [45.  1.  1.  2.  1.]]\n"
     ]
    }
   ],
   "source": [
    "for i in range(n):\n",
    "    print(\"Enter the details of Family \"+chr(ord('A')+i));\n",
    "    \n",
    "    for j in range(m):\n",
    "       entry=input()\n",
    "       if entry in dict.keys():\n",
    "            entry=dict[entry]\n",
    "       a[i][j]=entry\n",
    "       \n",
    "print(a)\n"
   ]
  },
  {
   "cell_type": "code",
   "execution_count": 10,
   "metadata": {},
   "outputs": [
    {
     "name": "stdout",
     "output_type": "stream",
     "text": [
      "Enter Attribute 1 Type:Numeric\n",
      "Enter Attribute 2 Type:Nominal\n",
      "Enter Attribute 3 Type:Nominal\n",
      "Enter Attribute 4 Type:Ordinal\n",
      "Enter Attribute 5 Type:Binary\n"
     ]
    }
   ],
   "source": [
    "attribute_type=[]\n",
    "for i in range(m):\n",
    "    attribute_type.append(input(\"Enter Attribute \"+str(i+1)+\" Type:\"))"
   ]
  },
  {
   "cell_type": "code",
   "execution_count": 11,
   "metadata": {},
   "outputs": [],
   "source": [
    "for i in range(m):\n",
    "    if attribute_type[i]=='Numeric':\n",
    "        d=Numeric(a,d,i)\n",
    "    elif attribute_type[i]=='Nominal':\n",
    "        d=NominalORBinary(a,d,i)\n",
    "    elif attribute_type[i]=='Binary':\n",
    "        d=NominalORBinary(a,d,i)\n",
    "    elif attribute_type[i]=='Ordinal':\n",
    "        d=Ordinal(a,d,i)"
   ]
  },
  {
   "cell_type": "code",
   "execution_count": 12,
   "metadata": {},
   "outputs": [
    {
     "name": "stdout",
     "output_type": "stream",
     "text": [
      "Individual Dissimilirity Matrices are:\n",
      "[[[0.   1.   0.   0.5 ]\n",
      "  [1.   0.   1.   0.5 ]\n",
      "  [0.   1.   0.   0.5 ]\n",
      "  [0.5  0.5  0.5  0.  ]]\n",
      "\n",
      " [[0.   0.   1.   0.  ]\n",
      "  [0.   0.   1.   0.  ]\n",
      "  [1.   1.   0.   1.  ]\n",
      "  [0.   0.   1.   0.  ]]\n",
      "\n",
      " [[0.   1.   1.   0.  ]\n",
      "  [1.   0.   1.   1.  ]\n",
      "  [1.   1.   0.   1.  ]\n",
      "  [0.   1.   1.   0.  ]]\n",
      "\n",
      " [[0.   0.75 0.25 0.75]\n",
      "  [0.75 0.   0.5  0.  ]\n",
      "  [0.25 0.5  0.   0.5 ]\n",
      "  [0.75 0.   0.5  0.  ]]\n",
      "\n",
      " [[0.   1.   0.   0.  ]\n",
      "  [1.   0.   1.   1.  ]\n",
      "  [0.   1.   0.   0.  ]\n",
      "  [0.   1.   0.   0.  ]]]\n"
     ]
    }
   ],
   "source": [
    "print(\"Individual Dissimilirity Matrices are:\")\n",
    "print(d)"
   ]
  },
  {
   "cell_type": "code",
   "execution_count": 13,
   "metadata": {},
   "outputs": [
    {
     "name": "stdout",
     "output_type": "stream",
     "text": [
      "Mixed Attribute Dissimilirity Matrix:\n",
      "[[0.   0.75 0.45 0.25]\n",
      " [0.75 0.   0.9  0.5 ]\n",
      " [0.45 0.9  0.   0.6 ]\n",
      " [0.25 0.5  0.6  0.  ]]\n"
     ]
    }
   ],
   "source": [
    "D=DissimilarityMatrix(d,D)\n",
    "print(\"Mixed Attribute Dissimilirity Matrix:\")\n",
    "print(D)"
   ]
  },
  {
   "cell_type": "code",
   "execution_count": null,
   "metadata": {},
   "outputs": [],
   "source": []
  }
 ],
 "metadata": {
  "kernelspec": {
   "display_name": "Python 3",
   "language": "python",
   "name": "python3"
  },
  "language_info": {
   "codemirror_mode": {
    "name": "ipython",
    "version": 3
   },
   "file_extension": ".py",
   "mimetype": "text/x-python",
   "name": "python",
   "nbconvert_exporter": "python",
   "pygments_lexer": "ipython3",
   "version": "3.7.4"
  }
 },
 "nbformat": 4,
 "nbformat_minor": 2
}
